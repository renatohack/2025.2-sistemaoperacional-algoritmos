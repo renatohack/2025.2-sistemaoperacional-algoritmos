{
 "cells": [
  {
   "cell_type": "raw",
   "id": "00071374-ef4c-4353-b431-31eb8b8ea629",
   "metadata": {},
   "source": [
    "Subdiretórios\n",
    "\n",
    "Um algoritmo recursivo para navegar por todos os subdiretórios de um diretório qualquer pode ser descrito assim: no caso base, se o diretório D não tiver subdiretórios, então Nav(D) = D. No caso recursivo, se o diretório D tiver subdiretórios, então Nav(D) = D U Nav(S), para cada S em Sub(D), onde Sub(D) representa o conjunto de subdiretórios de D. Em outras palavras, isso significa que a navegação de um diretório D é visitar D e, em seguida, aplicar a mesma lógica de navegação a todos os seus subdiretórios, repetindo o processo até que não haja mais pastas internas.\n",
    "\n",
    "função Navegar(diretorio):\n",
    "    mostrar(diretorio)\n",
    "    para cada subdiretorio em diretorio:\n",
    "        Navegar(subdiretorio)"
   ]
  },
  {
   "cell_type": "code",
   "execution_count": null,
   "id": "1fb00f6a-869c-4255-accc-b98dcdebb52a",
   "metadata": {},
   "outputs": [],
   "source": [
    "def josephus(n, k):\n",
    "    if n == 1:\n",
    "        return 1\n",
    "    else:\n",
    "        return (josephus(n - 1, k) + k - 1) % n + 1\n",
    "\n",
    "# Exemplo de uso:\n",
    "n = 7  # número de pessoas\n",
    "k = 3  # elimina a cada 3\n",
    "print(\"A posição sobrevivente é:\", josephus(n, k))\n"
   ]
  },
  {
   "cell_type": "code",
   "execution_count": null,
   "id": "f35c74ab-56d8-43e9-8555-6c690206d039",
   "metadata": {},
   "outputs": [],
   "source": [
    "def josephus_iterativo(n, k):\n",
    "    resultado = 1\n",
    "    for i in range(2, n + 1):\n",
    "        resultado = (resultado + k - 1) % i + 1\n",
    "    return resultado\n",
    "\n",
    "# Exemplo de uso\n",
    "n = 7\n",
    "k = 3\n",
    "print(\"Sobrevivente (iterativo):\", josephus_iterativo(n, k))"
   ]
  }
 ],
 "metadata": {
  "kernelspec": {
   "display_name": "Python 3 (ipykernel)",
   "language": "python",
   "name": "python3"
  },
  "language_info": {
   "codemirror_mode": {
    "name": "ipython",
    "version": 3
   },
   "file_extension": ".py",
   "mimetype": "text/x-python",
   "name": "python",
   "nbconvert_exporter": "python",
   "pygments_lexer": "ipython3",
   "version": "3.11.9"
  }
 },
 "nbformat": 4,
 "nbformat_minor": 5
}
