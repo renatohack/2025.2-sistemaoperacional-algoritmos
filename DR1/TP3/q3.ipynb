{
 "cells": [
  {
   "cell_type": "raw",
   "id": "6176eec6-5a93-4f61-9fe5-3d8da6768756",
   "metadata": {},
   "source": [
    "Os problemas mais comuns relacionados com implementações recursivas são basicamente cinco.\n",
    "\n",
    ":: O primeiro é o estouro da pilha (stack overflow). Isso acontece porque cada chamada recursiva ocupa memória da pilha de execução e, se a profundidade da recursão for muito grande, o programa pode falhar. Para lidar com esse problema, pode-se converter a solução recursiva em uma versão iterativa.\n",
    "\n",
    ":: O segundo problema é a ausência de caso base ou um caso base mal definido. Se não existir uma condição clara de parada, a função entra em um loop infinito. A forma de evitar isso é sempre definir um caso base simples e testá-lo primeiro com entradas pequenas.\n",
    "\n",
    ":: O terceiro problema é o recalcular resultados repetidamente. Isso ocorre em problemas como o cálculo do Fibonacci, em que a recursão simples faz chamadas duplicadas para os mesmos subproblemas, resultando em um crescimento exponencial de chamadas. A solução é aplicar memoização, armazenando resultados já calculados, ou reescrever o algoritmo usando programação dinâmica na forma bottom-up.\n",
    "\n",
    ":: O quarto problema é a dificuldade de compreensão e depuração. Como a função chama a si mesma diversas vezes, pode ser complicado acompanhar o fluxo do programa. Para enfrentar isso, é útil usar instruções de saída como prints ou depuradores que mostrem a entrada e a saída de cada chamada, além de diagramas que representem a árvore de chamadas.\n",
    "\n",
    ":: O quinto e último problema é o consumo excessivo de memória. Isso acontece quando, a cada chamada recursiva, são criadas cópias desnecessárias de estruturas de dados, como listas ou arrays. A melhor forma de lidar com isso é preferir soluções iterativas quando possível e, se a recursão for necessária, evitar a criação redundante dessas estruturas.\n",
    "\n",
    "Em resumo, os problemas mais comuns em implementações recursivas são estouro de pilha, caso base incorreto, recomputação de subproblemas, dificuldade de depuração e consumo de memória. Cada um deles pode ser tratado com técnicas específicas, como reescrever de forma iterativa, usar memoização, aplicar programação dinâmica ou simplesmente estruturar bem a função com um caso base adequado."
   ]
  },
  {
   "cell_type": "raw",
   "id": "0e99edce-fc89-41bc-aef5-1daabea940fe",
   "metadata": {},
   "source": [
    "A versão recursiva “pura” de Fibonacci recalcula os mesmos subproblemas muitas vezes (ex.: F(n) chama F(n−1) e F(n−2); F(n−1) volta a chamar F(n−2) e F(n−3), repetindo F(n−2) várias vezes). Programação Dinâmica reduz essa redundância explorando duas propriedades: subproblemas sobrepostos e decomposição ótima. Há duas técnicas principais.\n",
    "\n",
    ":: Memoization (top-down). Mantemos a forma recursiva, mas criamos um cache (tabela) para armazenar cada F(i) já calculado. No início, o cache está vazio; quando a função for calcular F(i), verifica se F(i) já está no cache. Se estiver, retorna imediatamente; se não, calcula F(i−1) e F(i−2), soma, guarda o resultado no cache e retorna. Isso transforma o número de chamadas efetivas de exponencial para linear, pois cada F(i) é computado no máximo uma vez. Complexidade: tempo O(n), espaço O(n) para a tabela (além da pilha de recursão, que também é O(n)).\n",
    "\n",
    ":: Tabulation (bottom-up). Em vez de começar de F(n) e descer recursivamente, construímos iterativamente uma tabela do menor para o maior: iniciamos com F(0)=0 e F(1)=1 e preenchemos F(2), F(3), …, F(n) em ordem crescente, usando a relação F(i)=F(i−1)+F(i−2). Isso elimina a pilha de recursão. Complexidade: tempo O(n) e espaço O(n) se guardarmos toda a tabela; se só precisarmos do valor final, podemos reduzir o espaço para O(1) mantendo apenas os dois últimos valores.\n",
    "\n",
    "Em ambos os casos, a mudança chave é evitar recomputações: na memoization, pela cacheagem das respostas durante a recursão; na tabulation, pela construção sequencial que garante que cada subproblema é resolvido exatamente uma vez. Em contraste com a recursão ingênua (tempo exponencial ~ O(φ^n)), as abordagens de Programação Dinâmica trazem o custo para O(n). Se, além disso, quisermos otimizar espaço, a versão bottom-up com duas variáveis alcança O(1) espaço mantendo o mesmo tempo O(n)."
   ]
  }
 ],
 "metadata": {
  "kernelspec": {
   "display_name": "Python 3 (ipykernel)",
   "language": "python",
   "name": "python3"
  },
  "language_info": {
   "codemirror_mode": {
    "name": "ipython",
    "version": 3
   },
   "file_extension": ".py",
   "mimetype": "text/x-python",
   "name": "python",
   "nbconvert_exporter": "python",
   "pygments_lexer": "ipython3",
   "version": "3.11.9"
  }
 },
 "nbformat": 4,
 "nbformat_minor": 5
}
