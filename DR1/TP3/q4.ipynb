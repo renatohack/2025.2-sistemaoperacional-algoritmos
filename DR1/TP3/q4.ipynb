{
 "cells": [
  {
   "cell_type": "code",
   "execution_count": 1,
   "id": "bbb95353-dfcf-4b97-af4a-8dc08acaf680",
   "metadata": {},
   "outputs": [],
   "source": [
    "# mantendo resultados em cache\n",
    "\n",
    "from functools import lru_cache\n",
    "\n",
    "@lru_cache(maxsize=None)\n",
    "def fib_memo(n: int) -> int:\n",
    "    if n < 0:\n",
    "        raise ValueError(\"n deve ser >= 0\")\n",
    "    if n < 2:\n",
    "        return n\n",
    "    return fib_memo(n - 1) + fib_memo(n - 2)"
   ]
  },
  {
   "cell_type": "code",
   "execution_count": 2,
   "id": "e1fcf7ce-a0bb-42ac-bc7d-1e55743d061c",
   "metadata": {},
   "outputs": [],
   "source": [
    "# calculando até N, salvando em memória e depois só obtendo o resultado a partir da memória\n",
    "\n",
    "def fib_tab(n: int) -> int:\n",
    "    if n < 0:\n",
    "        raise ValueError(\"n deve ser >= 0\")\n",
    "    if n < 2:\n",
    "        return n\n",
    "    dp = [0]*(n+1)\n",
    "    dp[1] = 1\n",
    "    for i in range(2, n+1):\n",
    "        dp[i] = dp[i-1] + dp[i-2]\n",
    "    return dp[n]"
   ]
  },
  {
   "cell_type": "code",
   "execution_count": 3,
   "id": "586c4cae-4125-4b77-89b7-a151353ef658",
   "metadata": {},
   "outputs": [],
   "source": [
    "# Calculando até N sem manter em memória, apenas utilizando variáveis temporárias\n",
    "\n",
    "def fib_bottom_up_O1(n: int) -> int:\n",
    "    if n < 0:\n",
    "        raise ValueError(\"n deve ser >= 0\")\n",
    "    if n < 2:\n",
    "        return n\n",
    "    a, b = 0, 1  # F(0), F(1)\n",
    "    for _ in range(2, n+1):\n",
    "        a, b = b, a + b\n",
    "    return b"
   ]
  },
  {
   "cell_type": "code",
   "execution_count": 4,
   "id": "cb65976c-85b8-4014-a7c3-76c70653f192",
   "metadata": {},
   "outputs": [],
   "source": [
    "def quicksort(a):\n",
    "\n",
    "    if a is None or len(a) < 2:\n",
    "        return\n",
    "\n",
    "    def swap(i, j):\n",
    "        a[i], a[j] = a[j], a[i]\n",
    "\n",
    "    def partition(lo, hi):\n",
    "        pivot = a[(lo + hi) // 2]\n",
    "        i = lo - 1\n",
    "        j = hi + 1\n",
    "        while True:\n",
    "            # avança i até achar >= pivot\n",
    "            i += 1\n",
    "            while a[i] < pivot:\n",
    "                i += 1\n",
    "            # recua j até achar <= pivot\n",
    "            j -= 1\n",
    "            while a[j] > pivot:\n",
    "                j -= 1\n",
    "            if i >= j:\n",
    "                return j\n",
    "            swap(i, j)\n",
    "\n",
    "    def _qs(lo, hi):\n",
    "        if lo < hi:\n",
    "            p = partition(lo, hi)\n",
    "            _qs(lo, p)\n",
    "            _qs(p + 1, hi)\n",
    "\n",
    "    _qs(0, len(a) - 1)\n"
   ]
  },
  {
   "cell_type": "code",
   "execution_count": null,
   "id": "eaaf7d17-d210-4069-b259-04d315b99294",
   "metadata": {},
   "outputs": [],
   "source": [
    "def quickselect(a, k):\n",
    "\n",
    "    if a is None or len(a) == 0:\n",
    "        raise ValueError(\"lista vazia\")\n",
    "    if k < 0 or k >= len(a):\n",
    "        raise ValueError(\"k fora do intervalo [0, len(a)-1]\")\n",
    "\n",
    "    def swap(i, j):\n",
    "        a[i], a[j] = a[j], a[i]\n",
    "\n",
    "    def partition(lo, hi):\n",
    "        pivot = a[hi]\n",
    "        i = lo\n",
    "        j = lo\n",
    "        while j < hi:\n",
    "            if a[j] <= pivot:\n",
    "                swap(i, j)\n",
    "                i += 1\n",
    "            j += 1\n",
    "        swap(i, hi)\n",
    "        return i\n",
    "\n",
    "    lo, hi = 0, len(a) - 1\n",
    "    while True:\n",
    "        p = partition(lo, hi)\n",
    "        if p == k:\n",
    "            return a[p]\n",
    "        if k < p:\n",
    "            hi = p - 1\n",
    "        else:\n",
    "            lo = p + 1\n"
   ]
  }
 ],
 "metadata": {
  "kernelspec": {
   "display_name": "Python 3 (ipykernel)",
   "language": "python",
   "name": "python3"
  },
  "language_info": {
   "codemirror_mode": {
    "name": "ipython",
    "version": 3
   },
   "file_extension": ".py",
   "mimetype": "text/x-python",
   "name": "python",
   "nbconvert_exporter": "python",
   "pygments_lexer": "ipython3",
   "version": "3.11.9"
  }
 },
 "nbformat": 4,
 "nbformat_minor": 5
}
