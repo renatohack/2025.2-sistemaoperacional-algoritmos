{
 "cells": [
  {
   "cell_type": "code",
   "execution_count": 16,
   "id": "ecd233d6-67c6-4250-a112-d3e8884ff5d6",
   "metadata": {},
   "outputs": [
    {
     "name": "stdout",
     "output_type": "stream",
     "text": [
      "[2, 8, 6, 7, 4, 1, 10, 3, 5, 9]\n"
     ]
    }
   ],
   "source": [
    "import random\n",
    "\n",
    "arr = random.sample(range(1, 11), 10)\n",
    "print(arr)"
   ]
  },
  {
   "cell_type": "code",
   "execution_count": 17,
   "id": "fd96914f-f2ee-469b-8866-c2f0d53ac82f",
   "metadata": {},
   "outputs": [
    {
     "name": "stdout",
     "output_type": "stream",
     "text": [
      "Last =  9 | Inner = 1 | Arr = [2, 6, 8, 7, 4, 1, 10, 3, 5, 9]\n",
      "Last =  9 | Inner = 2 | Arr = [2, 6, 7, 8, 4, 1, 10, 3, 5, 9]\n",
      "Last =  9 | Inner = 3 | Arr = [2, 6, 7, 4, 8, 1, 10, 3, 5, 9]\n",
      "Last =  9 | Inner = 4 | Arr = [2, 6, 7, 4, 1, 8, 10, 3, 5, 9]\n",
      "Last =  9 | Inner = 6 | Arr = [2, 6, 7, 4, 1, 8, 3, 10, 5, 9]\n",
      "Last =  9 | Inner = 7 | Arr = [2, 6, 7, 4, 1, 8, 3, 5, 10, 9]\n",
      "Last =  9 | Inner = 8 | Arr = [2, 6, 7, 4, 1, 8, 3, 5, 9, 10]\n",
      "Last =  8 | Inner = 2 | Arr = [2, 6, 4, 7, 1, 8, 3, 5, 9, 10]\n",
      "Last =  8 | Inner = 3 | Arr = [2, 6, 4, 1, 7, 8, 3, 5, 9, 10]\n",
      "Last =  8 | Inner = 5 | Arr = [2, 6, 4, 1, 7, 3, 8, 5, 9, 10]\n",
      "Last =  8 | Inner = 6 | Arr = [2, 6, 4, 1, 7, 3, 5, 8, 9, 10]\n",
      "Last =  7 | Inner = 1 | Arr = [2, 4, 6, 1, 7, 3, 5, 8, 9, 10]\n",
      "Last =  7 | Inner = 2 | Arr = [2, 4, 1, 6, 7, 3, 5, 8, 9, 10]\n",
      "Last =  7 | Inner = 4 | Arr = [2, 4, 1, 6, 3, 7, 5, 8, 9, 10]\n",
      "Last =  7 | Inner = 5 | Arr = [2, 4, 1, 6, 3, 5, 7, 8, 9, 10]\n",
      "Last =  6 | Inner = 1 | Arr = [2, 1, 4, 6, 3, 5, 7, 8, 9, 10]\n",
      "Last =  6 | Inner = 3 | Arr = [2, 1, 4, 3, 6, 5, 7, 8, 9, 10]\n",
      "Last =  6 | Inner = 4 | Arr = [2, 1, 4, 3, 5, 6, 7, 8, 9, 10]\n",
      "Last =  5 | Inner = 0 | Arr = [1, 2, 4, 3, 5, 6, 7, 8, 9, 10]\n",
      "Last =  5 | Inner = 2 | Arr = [1, 2, 3, 4, 5, 6, 7, 8, 9, 10]\n"
     ]
    }
   ],
   "source": [
    "def bubbleSort(arr):                           # Ordenar comparando valores adjs.\n",
    "    for last in range(len(arr)-1, 0, -1):  # e subir\n",
    "        for inner in range(last):                # o loop interno vai até o último\n",
    "            if arr[inner] > arr[inner+1]:  # Se o item for menor\n",
    "                temp = arr[inner]\n",
    "                arr[inner] = arr[inner+1]\n",
    "                arr[inner+1] = temp        # que o item adjacente, trocar\n",
    "                print(\"Last = \", last, \"| Inner =\", inner, \"| Arr =\", arr)\n",
    "\n",
    "bubbleSort(arr)"
   ]
  },
  {
   "cell_type": "code",
   "execution_count": 18,
   "id": "2757c9b1-b09e-4d07-ae8e-a34c59a81ed8",
   "metadata": {},
   "outputs": [],
   "source": [
    "def bubbleSort_2(arr):                           # Ordenar comparando valores adjs.\n",
    "    for last in range(len(arr)-1, 0, -1):  # e subir\n",
    "        for inner in range(last):                # o loop interno vai até o último\n",
    "            if arr[inner] > arr[inner+1]:  # Se o item for menor\n",
    "                temp = arr[inner]\n",
    "                arr[inner] = arr[inner+1]\n",
    "                arr[inner+1] = temp        # que o item adjacente, trocar\n",
    "                print(\"Last = \", last, \"| Inner =\", inner, \"| Arr =\", arr)\n",
    "\n",
    "        for inner in range(last, 0 , -1):\n",
    "            if arr[inner] < arr[inner-1]:\n",
    "                temp = arr[inner]\n",
    "                arr[inner] = arr[inner-1]\n",
    "                arr[inner-1] = temp\n",
    "                print(\"Last = \", last, \"| Inner =\", inner, \"| Arr =\", arr)\n",
    "\n",
    "bubbleSort_2(arr)"
   ]
  }
 ],
 "metadata": {
  "kernelspec": {
   "display_name": "Python 3 (ipykernel)",
   "language": "python",
   "name": "python3"
  },
  "language_info": {
   "codemirror_mode": {
    "name": "ipython",
    "version": 3
   },
   "file_extension": ".py",
   "mimetype": "text/x-python",
   "name": "python",
   "nbconvert_exporter": "python",
   "pygments_lexer": "ipython3",
   "version": "3.11.9"
  }
 },
 "nbformat": 4,
 "nbformat_minor": 5
}
