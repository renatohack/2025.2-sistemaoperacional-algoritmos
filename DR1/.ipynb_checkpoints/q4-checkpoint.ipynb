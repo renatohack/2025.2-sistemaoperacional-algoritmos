{
 "cells": [
  {
   "cell_type": "code",
   "execution_count": 4,
   "id": "8baa2622-bc8b-4940-817c-32daf23dab41",
   "metadata": {},
   "outputs": [],
   "source": [
    "lista_num = [2, 4, 6, 8, 10, 12, 13]"
   ]
  },
  {
   "cell_type": "code",
   "execution_count": 5,
   "id": "2e757423-b790-4939-b2c4-bd5be1dade7f",
   "metadata": {},
   "outputs": [],
   "source": [
    "num_passos = 0"
   ]
  },
  {
   "cell_type": "code",
   "execution_count": 6,
   "id": "4a494dc1-4726-49db-910c-33f91544ae34",
   "metadata": {},
   "outputs": [],
   "source": [
    "pivot_index = int((len(lista_num) - 1) / 2)"
   ]
  },
  {
   "cell_type": "code",
   "execution_count": null,
   "id": "03743740-ce89-4801-962f-ab7248cce602",
   "metadata": {},
   "outputs": [],
   "source": []
  }
 ],
 "metadata": {
  "kernelspec": {
   "display_name": "Python 3 (ipykernel)",
   "language": "python",
   "name": "python3"
  },
  "language_info": {
   "codemirror_mode": {
    "name": "ipython",
    "version": 3
   },
   "file_extension": ".py",
   "mimetype": "text/x-python",
   "name": "python",
   "nbconvert_exporter": "python",
   "pygments_lexer": "ipython3",
   "version": "3.11.9"
  }
 },
 "nbformat": 4,
 "nbformat_minor": 5
}
