{
 "cells": [
  {
   "cell_type": "code",
   "execution_count": null,
   "id": "0923a8fb",
   "metadata": {
    "vscode": {
     "languageId": "plaintext"
    }
   },
   "outputs": [],
   "source": [
    "import random\n",
    "\n",
    "listas_de_teste = [\n",
    "    random.sample(range(1, 101), 5),\n",
    "    random.sample(range(1, 101), 10),\n",
    "    random.sample(range(1, 101), 50),\n",
    "]"
   ]
  },
  {
   "cell_type": "code",
   "execution_count": null,
   "id": "2acb501f",
   "metadata": {
    "vscode": {
     "languageId": "plaintext"
    }
   },
   "outputs": [],
   "source": [
    "def bubbleSort(arr):\n",
    "    for last in range(len(arr)-1, 0, -1):\n",
    "        trocou = False\n",
    "        for inner in range(last):\n",
    "            if arr[inner] > arr[inner+1]:\n",
    "                temp = arr[inner]\n",
    "                arr[inner] = arr[inner+1]\n",
    "                arr[inner+1] = temp\n",
    "                trocou = True\n",
    "        if(trocou == False):\n",
    "            break\n",
    "    return arr"
   ]
  },
  {
   "cell_type": "code",
   "execution_count": null,
   "id": "07340c81",
   "metadata": {
    "vscode": {
     "languageId": "plaintext"
    }
   },
   "outputs": [],
   "source": [
    "for lista in listas_de_teste:\n",
    "    original = lista.copy()\n",
    "    ordenada = bubbleSort(lista.copy())\n",
    "    print(f\"Original: {original}\")\n",
    "    print(f\"Ordenada: {ordenada}\\n\")"
   ]
  }
 ],
 "metadata": {
  "language_info": {
   "name": "python"
  }
 },
 "nbformat": 4,
 "nbformat_minor": 5
}
