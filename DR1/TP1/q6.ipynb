{
 "cells": [
  {
   "cell_type": "code",
   "execution_count": 1,
   "id": "9a735442-272f-48b5-b681-e33dab146247",
   "metadata": {},
   "outputs": [],
   "source": [
    "def pot_2(num):\n",
    "    num_casa = 0\n",
    "    novo_num = num\n",
    "    while True:\n",
    "        num_casa = num_casa + 1\n",
    "        if novo_num <= 1:\n",
    "            break\n",
    "        novo_num = novo_num / 2\n",
    "    print(num_casa)"
   ]
  },
  {
   "cell_type": "code",
   "execution_count": 10,
   "id": "93485068-bbd9-4d0a-9354-68c8a8ba0219",
   "metadata": {},
   "outputs": [
    {
     "name": "stdout",
     "output_type": "stream",
     "text": [
      "11\n"
     ]
    }
   ],
   "source": [
    "pot_2(1024)"
   ]
  },
  {
   "cell_type": "code",
   "execution_count": null,
   "id": "878b0a89-00a8-4cb8-9a42-3b22486007cd",
   "metadata": {},
   "outputs": [],
   "source": [
    "# A complexidade do algoritmo é O(log(N))"
   ]
  }
 ],
 "metadata": {
  "kernelspec": {
   "display_name": "Python 3 (ipykernel)",
   "language": "python",
   "name": "python3"
  },
  "language_info": {
   "codemirror_mode": {
    "name": "ipython",
    "version": 3
   },
   "file_extension": ".py",
   "mimetype": "text/x-python",
   "name": "python",
   "nbconvert_exporter": "python",
   "pygments_lexer": "ipython3",
   "version": "3.11.9"
  }
 },
 "nbformat": 4,
 "nbformat_minor": 5
}
