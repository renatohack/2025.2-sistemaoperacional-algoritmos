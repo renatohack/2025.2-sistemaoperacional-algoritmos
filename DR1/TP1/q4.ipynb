{
 "cells": [
  {
   "cell_type": "code",
   "execution_count": 52,
   "id": "493db742-b26b-4351-b773-62aeb6feb796",
   "metadata": {
    "editable": true,
    "slideshow": {
     "slide_type": ""
    },
    "tags": []
   },
   "outputs": [],
   "source": [
    "lista_num = [2, 4, 6, 8, 10, 12, 13]\n",
    "number = 8\n",
    "num_passos = 0"
   ]
  },
  {
   "cell_type": "code",
   "execution_count": 53,
   "id": "4a494dc1-4726-49db-910c-33f91544ae34",
   "metadata": {},
   "outputs": [],
   "source": [
    "while True:\n",
    "    pivot_index = int((len(lista_num)) / 2)\n",
    "    num_passos = num_passos + 1\n",
    "    if lista_num[pivot_index] == number:\n",
    "        break\n",
    "    elif lista_num[pivot_index] > number:\n",
    "        lista_num = lista_num[0:pivot_index]\n",
    "    elif lista_num[pivot_index] < number:\n",
    "        first_index = pivot_index + 1\n",
    "        lista_num = lista_num[first_index:]"
   ]
  },
  {
   "cell_type": "code",
   "execution_count": 54,
   "id": "1ff0dec4-23ef-4341-a0fc-067f8dc6491c",
   "metadata": {
    "editable": true,
    "slideshow": {
     "slide_type": ""
    },
    "tags": []
   },
   "outputs": [
    {
     "data": {
      "text/plain": [
       "1"
      ]
     },
     "execution_count": 54,
     "metadata": {},
     "output_type": "execute_result"
    }
   ],
   "source": [
    "num_passos"
   ]
  }
 ],
 "metadata": {
  "kernelspec": {
   "display_name": "Python 3 (ipykernel)",
   "language": "python",
   "name": "python3"
  },
  "language_info": {
   "codemirror_mode": {
    "name": "ipython",
    "version": 3
   },
   "file_extension": ".py",
   "mimetype": "text/x-python",
   "name": "python",
   "nbconvert_exporter": "python",
   "pygments_lexer": "ipython3",
   "version": "3.11.9"
  }
 },
 "nbformat": 4,
 "nbformat_minor": 5
}
