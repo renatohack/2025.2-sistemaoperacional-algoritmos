{
 "cells": [
  {
   "cell_type": "code",
   "execution_count": 18,
   "id": "2adf5605-643f-4805-80ce-bbd153383db3",
   "metadata": {},
   "outputs": [],
   "source": [
    "def greatestNumber(array):\n",
    "    for i in array:\n",
    "        # Assume for now that i is the greatest:\n",
    "        isValTheGreatest = True\n",
    "\n",
    "        for j in array:\n",
    "            # If we find another value that is greater than i,\n",
    "            # i is not the greatest:\n",
    "            if j > i:\n",
    "                isValTheGreatest = False\n",
    "\n",
    "        # If, by the time we checked all the other numbers, i\n",
    "        # is still the greatest, it means that i is the greatest number:\n",
    "        if isValTheGreatest:\n",
    "            return i"
   ]
  },
  {
   "cell_type": "code",
   "execution_count": 19,
   "id": "30e08606-18e4-497a-8b4f-d604ceeb7f01",
   "metadata": {},
   "outputs": [],
   "source": [
    "def greatestNumber_otimizada(array):\n",
    "    max_value = 0\n",
    "    for i in array:\n",
    "        if i > max_value:\n",
    "            max_value = i\n",
    "\n",
    "    return i"
   ]
  },
  {
   "cell_type": "code",
   "execution_count": 21,
   "id": "3f994517-16b8-4695-9db2-e0f6c6e982d5",
   "metadata": {
    "editable": true,
    "slideshow": {
     "slide_type": ""
    },
    "tags": []
   },
   "outputs": [
    {
     "name": "stdout",
     "output_type": "stream",
     "text": [
      "13\n",
      "0:00:00.000279\n",
      "13\n",
      "0:00:00.000084\n"
     ]
    }
   ],
   "source": [
    "from datetime import datetime\n",
    "\n",
    "\n",
    "\n",
    "lista_num = [2, 4, 6, 8, 10, 12, 13]\n",
    "\n",
    "init = datetime.now()\n",
    "print(greatestNumber(lista_num))\n",
    "final = datetime.now()\n",
    "print(final - init)\n",
    "\n",
    "init = datetime.now()\n",
    "print(greatestNumber_otimizada(lista_num))\n",
    "final = datetime.now()\n",
    "print(final - init)"
   ]
  }
 ],
 "metadata": {
  "kernelspec": {
   "display_name": "Python 3 (ipykernel)",
   "language": "python",
   "name": "python3"
  },
  "language_info": {
   "codemirror_mode": {
    "name": "ipython",
    "version": 3
   },
   "file_extension": ".py",
   "mimetype": "text/x-python",
   "name": "python",
   "nbconvert_exporter": "python",
   "pygments_lexer": "ipython3",
   "version": "3.11.9"
  }
 },
 "nbformat": 4,
 "nbformat_minor": 5
}
