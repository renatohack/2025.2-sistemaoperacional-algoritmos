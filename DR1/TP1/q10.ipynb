{
 "cells": [
  {
   "cell_type": "code",
   "execution_count": null,
   "id": "b1417541",
   "metadata": {
    "vscode": {
     "languageId": "plaintext"
    }
   },
   "outputs": [],
   "source": [
    "listas_de_teste = [\n",
    "    [\"banana\", \"abacaxi\", \"uva\", \"laranja\", \"manga\"],\n",
    "    [\"zebra\", \"abelha\", \"gato\", \"elefante\", \"cachorro\"],\n",
    "    [\"python\", \"java\", \"c\", \"ruby\", \"go\"],\n",
    "    [\"a\", \"b\", \"c\"],  # já ordenada\n",
    "    [\"c\", \"b\", \"a\"]   # reversa\n",
    "]"
   ]
  },
  {
   "cell_type": "code",
   "execution_count": null,
   "id": "89bd4ea0",
   "metadata": {
    "vscode": {
     "languageId": "plaintext"
    }
   },
   "outputs": [],
   "source": [
    "def bubbleSort(arr):\n",
    "    for last in range(len(arr)-1, 0, -1):\n",
    "        trocou = False\n",
    "        for inner in range(last):\n",
    "            if arr[inner] > arr[inner+1]:\n",
    "                temp = arr[inner]\n",
    "                arr[inner] = arr[inner+1]\n",
    "                arr[inner+1] = temp\n",
    "                trocou = True\n",
    "        if(trocou == False):\n",
    "            break\n",
    "    return arr"
   ]
  },
  {
   "cell_type": "code",
   "execution_count": null,
   "id": "a4fb7ce1",
   "metadata": {
    "vscode": {
     "languageId": "plaintext"
    }
   },
   "outputs": [],
   "source": [
    "for lista in listas_de_teste:\n",
    "    original = lista.copy()\n",
    "    ordenada = bubbleSort(lista.copy())\n",
    "    print(f\"Original: {original}\")\n",
    "    print(f\"Ordenada: {ordenada}\\n\")"
   ]
  }
 ],
 "metadata": {
  "language_info": {
   "name": "python"
  }
 },
 "nbformat": 4,
 "nbformat_minor": 5
}
