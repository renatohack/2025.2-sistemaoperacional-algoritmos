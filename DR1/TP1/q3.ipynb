{
 "cells": [
  {
   "cell_type": "code",
   "execution_count": 4,
   "id": "54553524-ba61-450d-b755-ca0a5145de57",
   "metadata": {},
   "outputs": [],
   "source": [
    "lista_num = [2, 4, 6, 8, 10, 12, 13]"
   ]
  },
  {
   "cell_type": "code",
   "execution_count": 5,
   "id": "872df12a-783a-44d9-bfe7-ca6ad5af1637",
   "metadata": {},
   "outputs": [],
   "source": [
    "num_passos = 0"
   ]
  },
  {
   "cell_type": "code",
   "execution_count": 6,
   "id": "ead70b41-2388-4eaa-966d-08f0dabde917",
   "metadata": {},
   "outputs": [],
   "source": [
    "for i in lista_num:\n",
    "    num_passos = num_passos + 1\n",
    "    if i == 8:\n",
    "        break"
   ]
  },
  {
   "cell_type": "code",
   "execution_count": 7,
   "id": "ed00574a-5d44-4c2f-b682-97ab7c619068",
   "metadata": {},
   "outputs": [
    {
     "data": {
      "text/plain": [
       "4"
      ]
     },
     "execution_count": 7,
     "metadata": {},
     "output_type": "execute_result"
    }
   ],
   "source": [
    "num_passos"
   ]
  }
 ],
 "metadata": {
  "kernelspec": {
   "display_name": "Python 3 (ipykernel)",
   "language": "python",
   "name": "python3"
  },
  "language_info": {
   "codemirror_mode": {
    "name": "ipython",
    "version": 3
   },
   "file_extension": ".py",
   "mimetype": "text/x-python",
   "name": "python",
   "nbconvert_exporter": "python",
   "pygments_lexer": "ipython3",
   "version": "3.11.9"
  }
 },
 "nbformat": 4,
 "nbformat_minor": 5
}
