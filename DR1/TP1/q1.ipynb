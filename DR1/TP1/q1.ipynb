{
 "cells": [
  {
   "cell_type": "code",
   "execution_count": 6,
   "id": "f091a3b1-01db-4eb9-8ef7-b666b8ca61e8",
   "metadata": {},
   "outputs": [],
   "source": [
    "text = \"Sítio do pica-pau amarelo \\n 2023\""
   ]
  },
  {
   "cell_type": "code",
   "execution_count": 7,
   "id": "e67f28c4-5b21-4a5c-8536-7e9c831fc78c",
   "metadata": {},
   "outputs": [],
   "source": [
    "not_empty = [x for x in text if x != \" \"]"
   ]
  },
  {
   "cell_type": "code",
   "execution_count": 8,
   "id": "47711420-e65c-4127-b92c-4e2f43ffb379",
   "metadata": {},
   "outputs": [
    {
     "data": {
      "text/plain": [
       "['S',\n",
       " 'í',\n",
       " 't',\n",
       " 'i',\n",
       " 'o',\n",
       " 'd',\n",
       " 'o',\n",
       " 'p',\n",
       " 'i',\n",
       " 'c',\n",
       " 'a',\n",
       " '-',\n",
       " 'p',\n",
       " 'a',\n",
       " 'u',\n",
       " 'a',\n",
       " 'm',\n",
       " 'a',\n",
       " 'r',\n",
       " 'e',\n",
       " 'l',\n",
       " 'o',\n",
       " '\\n',\n",
       " '2',\n",
       " '0',\n",
       " '2',\n",
       " '3']"
      ]
     },
     "execution_count": 8,
     "metadata": {},
     "output_type": "execute_result"
    }
   ],
   "source": [
    "not_empty"
   ]
  },
  {
   "cell_type": "code",
   "execution_count": null,
   "id": "c74509c4-022f-46a5-8d15-2edad9c33f23",
   "metadata": {},
   "outputs": [],
   "source": []
  }
 ],
 "metadata": {
  "kernelspec": {
   "display_name": "Python 3 (ipykernel)",
   "language": "python",
   "name": "python3"
  },
  "language_info": {
   "codemirror_mode": {
    "name": "ipython",
    "version": 3
   },
   "file_extension": ".py",
   "mimetype": "text/x-python",
   "name": "python",
   "nbconvert_exporter": "python",
   "pygments_lexer": "ipython3",
   "version": "3.11.9"
  }
 },
 "nbformat": 4,
 "nbformat_minor": 5
}
