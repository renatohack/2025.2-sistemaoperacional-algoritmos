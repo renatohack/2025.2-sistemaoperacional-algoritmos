{
 "cells": [
  {
   "cell_type": "code",
   "execution_count": null,
   "id": "3c7159f0-104d-4a15-b00d-9c62d45d8a2c",
   "metadata": {},
   "outputs": [],
   "source": [
    "def selection_sort(a):\n",
    "    n = len(a)\n",
    "    for i in range(n - 1):\n",
    "        min_idx = i\n",
    "        for j in range(i + 1, n):\n",
    "            if a[j] < a[min_idx]:\n",
    "                min_idx = j\n",
    "        if min_idx != i:\n",
    "            a[i], a[min_idx] = a[min_idx], a[i]\n",
    "    return a"
   ]
  }
 ],
 "metadata": {
  "kernelspec": {
   "display_name": "Python 3 (ipykernel)",
   "language": "python",
   "name": "python3"
  },
  "language_info": {
   "codemirror_mode": {
    "name": "ipython",
    "version": 3
   },
   "file_extension": ".py",
   "mimetype": "text/x-python",
   "name": "python",
   "nbconvert_exporter": "python",
   "pygments_lexer": "ipython3",
   "version": "3.11.9"
  }
 },
 "nbformat": 4,
 "nbformat_minor": 5
}
