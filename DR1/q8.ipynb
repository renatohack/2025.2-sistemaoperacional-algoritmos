{
 "cells": [
  {
   "cell_type": "code",
   "execution_count": 50,
   "id": "ecd233d6-67c6-4250-a112-d3e8884ff5d6",
   "metadata": {},
   "outputs": [
    {
     "name": "stdout",
     "output_type": "stream",
     "text": [
      "[1, 9, 10, 5, 8, 2, 3, 4, 7, 6]\n"
     ]
    }
   ],
   "source": [
    "import random\n",
    "\n",
    "arr = random.sample(range(1, 101), 10)\n",
    "#arr = [5, 1, 2, 3, 4]\n",
    "print(arr)"
   ]
  },
  {
   "cell_type": "code",
   "execution_count": 51,
   "id": "fd96914f-f2ee-469b-8866-c2f0d53ac82f",
   "metadata": {},
   "outputs": [
    {
     "name": "stdout",
     "output_type": "stream",
     "text": [
      "Last =  9 | Inner = 2 | Arr = [1, 9, 5, 10, 8, 2, 3, 4, 7, 6]\n",
      "Last =  9 | Inner = 3 | Arr = [1, 9, 5, 8, 10, 2, 3, 4, 7, 6]\n",
      "Last =  9 | Inner = 4 | Arr = [1, 9, 5, 8, 2, 10, 3, 4, 7, 6]\n",
      "Last =  9 | Inner = 5 | Arr = [1, 9, 5, 8, 2, 3, 10, 4, 7, 6]\n",
      "Last =  9 | Inner = 6 | Arr = [1, 9, 5, 8, 2, 3, 4, 10, 7, 6]\n",
      "Last =  9 | Inner = 7 | Arr = [1, 9, 5, 8, 2, 3, 4, 7, 10, 6]\n",
      "Last =  9 | Inner = 8 | Arr = [1, 9, 5, 8, 2, 3, 4, 7, 6, 10]\n",
      "Last =  8 | Inner = 1 | Arr = [1, 5, 9, 8, 2, 3, 4, 7, 6, 10]\n",
      "Last =  8 | Inner = 2 | Arr = [1, 5, 8, 9, 2, 3, 4, 7, 6, 10]\n",
      "Last =  8 | Inner = 3 | Arr = [1, 5, 8, 2, 9, 3, 4, 7, 6, 10]\n",
      "Last =  8 | Inner = 4 | Arr = [1, 5, 8, 2, 3, 9, 4, 7, 6, 10]\n",
      "Last =  8 | Inner = 5 | Arr = [1, 5, 8, 2, 3, 4, 9, 7, 6, 10]\n",
      "Last =  8 | Inner = 6 | Arr = [1, 5, 8, 2, 3, 4, 7, 9, 6, 10]\n",
      "Last =  8 | Inner = 7 | Arr = [1, 5, 8, 2, 3, 4, 7, 6, 9, 10]\n",
      "Last =  7 | Inner = 2 | Arr = [1, 5, 2, 8, 3, 4, 7, 6, 9, 10]\n",
      "Last =  7 | Inner = 3 | Arr = [1, 5, 2, 3, 8, 4, 7, 6, 9, 10]\n",
      "Last =  7 | Inner = 4 | Arr = [1, 5, 2, 3, 4, 8, 7, 6, 9, 10]\n",
      "Last =  7 | Inner = 5 | Arr = [1, 5, 2, 3, 4, 7, 8, 6, 9, 10]\n",
      "Last =  7 | Inner = 6 | Arr = [1, 5, 2, 3, 4, 7, 6, 8, 9, 10]\n",
      "Last =  6 | Inner = 1 | Arr = [1, 2, 5, 3, 4, 7, 6, 8, 9, 10]\n",
      "Last =  6 | Inner = 2 | Arr = [1, 2, 3, 5, 4, 7, 6, 8, 9, 10]\n",
      "Last =  6 | Inner = 3 | Arr = [1, 2, 3, 4, 5, 7, 6, 8, 9, 10]\n",
      "Last =  6 | Inner = 5 | Arr = [1, 2, 3, 4, 5, 6, 7, 8, 9, 10]\n",
      "23\n"
     ]
    }
   ],
   "source": [
    "def bubbleSort(arr):\n",
    "    contador = 0\n",
    "    for last in range(len(arr)-1, 0, -1):  # e subir\n",
    "        for inner in range(last):                # o loop interno vai até o último\n",
    "            if arr[inner] > arr[inner+1]:  # Se o item for menor\n",
    "                temp = arr[inner]\n",
    "                arr[inner] = arr[inner+1]\n",
    "                arr[inner+1] = temp        # que o item adjacente, trocar\n",
    "                print(\"Last = \", last, \"| Inner =\", inner, \"| Arr =\", arr)\n",
    "                contador = contador + 1\n",
    "    print(contador)\n",
    "\n",
    "bubbleSort(arr.copy())"
   ]
  },
  {
   "cell_type": "code",
   "execution_count": 52,
   "id": "2757c9b1-b09e-4d07-ae8e-a34c59a81ed8",
   "metadata": {},
   "outputs": [
    {
     "name": "stdout",
     "output_type": "stream",
     "text": [
      "Last =  9 | Inner = 2 | Arr = [1, 9, 5, 10, 8, 2, 3, 4, 7, 6]\n",
      "Last =  9 | Inner = 3 | Arr = [1, 9, 5, 8, 10, 2, 3, 4, 7, 6]\n",
      "Last =  9 | Inner = 4 | Arr = [1, 9, 5, 8, 2, 10, 3, 4, 7, 6]\n",
      "Last =  9 | Inner = 5 | Arr = [1, 9, 5, 8, 2, 3, 10, 4, 7, 6]\n",
      "Last =  9 | Inner = 6 | Arr = [1, 9, 5, 8, 2, 3, 4, 10, 7, 6]\n",
      "Last =  9 | Inner = 7 | Arr = [1, 9, 5, 8, 2, 3, 4, 7, 10, 6]\n",
      "Last =  9 | Inner = 8 | Arr = [1, 9, 5, 8, 2, 3, 4, 7, 6, 10]\n",
      "Last =  9 | Inner = 8 | Arr = [1, 9, 5, 8, 2, 3, 4, 6, 7, 10]\n",
      "Last =  9 | Inner = 4 | Arr = [1, 9, 5, 2, 8, 3, 4, 6, 7, 10]\n",
      "Last =  9 | Inner = 3 | Arr = [1, 9, 2, 5, 8, 3, 4, 6, 7, 10]\n",
      "Last =  9 | Inner = 2 | Arr = [1, 2, 9, 5, 8, 3, 4, 6, 7, 10]\n",
      "Last =  8 | Inner = 2 | Arr = [1, 2, 5, 9, 8, 3, 4, 6, 7, 10]\n",
      "Last =  8 | Inner = 3 | Arr = [1, 2, 5, 8, 9, 3, 4, 6, 7, 10]\n",
      "Last =  8 | Inner = 4 | Arr = [1, 2, 5, 8, 3, 9, 4, 6, 7, 10]\n",
      "Last =  8 | Inner = 5 | Arr = [1, 2, 5, 8, 3, 4, 9, 6, 7, 10]\n",
      "Last =  8 | Inner = 6 | Arr = [1, 2, 5, 8, 3, 4, 6, 9, 7, 10]\n",
      "Last =  8 | Inner = 7 | Arr = [1, 2, 5, 8, 3, 4, 6, 7, 9, 10]\n",
      "Last =  8 | Inner = 4 | Arr = [1, 2, 5, 3, 8, 4, 6, 7, 9, 10]\n",
      "Last =  8 | Inner = 3 | Arr = [1, 2, 3, 5, 8, 4, 6, 7, 9, 10]\n",
      "Last =  7 | Inner = 4 | Arr = [1, 2, 3, 5, 4, 8, 6, 7, 9, 10]\n",
      "Last =  7 | Inner = 5 | Arr = [1, 2, 3, 5, 4, 6, 8, 7, 9, 10]\n",
      "Last =  7 | Inner = 6 | Arr = [1, 2, 3, 5, 4, 6, 7, 8, 9, 10]\n",
      "Last =  7 | Inner = 4 | Arr = [1, 2, 3, 4, 5, 6, 7, 8, 9, 10]\n",
      "23\n"
     ]
    }
   ],
   "source": [
    "def bubbleSort_2(arr):\n",
    "    contador = 0\n",
    "    for last in range(len(arr)-1, 0, -1):  # e subir\n",
    "        for inner in range(last):                # o loop interno vai até o último\n",
    "            if arr[inner] > arr[inner+1]:  # Se o item for menor\n",
    "                temp = arr[inner]\n",
    "                arr[inner] = arr[inner+1]\n",
    "                arr[inner+1] = temp        # que o item adjacente, trocar\n",
    "                print(\"Last = \", last, \"| Inner =\", inner, \"| Arr =\", arr)\n",
    "                contador = contador + 1\n",
    "\n",
    "        for inner in range(last-1, 0 , -1):\n",
    "            if arr[inner] < arr[inner-1]:\n",
    "                temp = arr[inner]\n",
    "                arr[inner] = arr[inner-1]\n",
    "                arr[inner-1] = temp\n",
    "                print(\"Last = \", last, \"| Inner =\", inner, \"| Arr =\", arr)\n",
    "                contador = contador + 1\n",
    "    print(contador)\n",
    "\n",
    "bubbleSort_2(arr.copy())"
   ]
  }
 ],
 "metadata": {
  "kernelspec": {
   "display_name": "Python 3 (ipykernel)",
   "language": "python",
   "name": "python3"
  },
  "language_info": {
   "codemirror_mode": {
    "name": "ipython",
    "version": 3
   },
   "file_extension": ".py",
   "mimetype": "text/x-python",
   "name": "python",
   "nbconvert_exporter": "python",
   "pygments_lexer": "ipython3",
   "version": "3.11.9"
  }
 },
 "nbformat": 4,
 "nbformat_minor": 5
}
